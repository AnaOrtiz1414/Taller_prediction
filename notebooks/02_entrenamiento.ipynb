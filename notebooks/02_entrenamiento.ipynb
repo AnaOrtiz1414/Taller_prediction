{
 "cells": [
  {
   "cell_type": "markdown",
   "metadata": {},
   "source": [
    "02. Entrenamiento\n",
    "\n",
    "Se inicia con la importación de las diferentes librerias y aquí también se pone la ruta de la base de datos para que los resultados que nos entregue sean los entrenados. \n",
    "\n",
    "Aquí tenemos los códigos en python importantes\n",
    "- data_loader.py\n",
    "- model.py\n",
    "- train.py"
   ]
  },
  {
   "cell_type": "code",
   "execution_count": 8,
   "metadata": {},
   "outputs": [],
   "source": [
    "import tensorflow as tf\n",
    "import numpy as np\n",
    "import pandas as pd\n",
    "import matplotlib.pyplot as plt\n",
    "import seaborn as sns\n",
    "import os\n",
    "os.chdir(r\"C:/Users/ANA/Documents/Maestria/Clase Deeplearning/Taller entregable/Taller_prediction\")\n",
    "\n",
    "\n",
    "\n",
    "from src.data_loader import load_data\n",
    "\n",
    "from tensorflow import keras\n",
    "from tensorflow.keras.models import Sequential\n",
    "from tensorflow.keras import layers\n",
    "from tensorflow.keras.layers import Dense, Dropout\n",
    "from tensorflow.keras.optimizers import Adam  \n"
   ]
  },
  {
   "cell_type": "markdown",
   "metadata": {},
   "source": [
    "2. Cargue de los datos de entrenamiento. "
   ]
  },
  {
   "cell_type": "code",
   "execution_count": 15,
   "metadata": {},
   "outputs": [
    {
     "name": "stdout",
     "output_type": "stream",
     "text": [
      "Columnas disponibles en el dataset: ['Posted On', 'BHK', 'Rent', 'Size', 'Floor', 'Area Type', 'Area Locality', 'City', 'Furnishing Status', 'Tenant Preferred', 'Bathroom', 'Point of Contact']\n",
      "Columnas disponibles en el dataset: ['Posted On', 'BHK', 'Rent', 'Size', 'Floor', 'Area Type', 'Area Locality', 'City', 'Furnishing Status', 'Tenant Preferred', 'Bathroom', 'Point of Contact']\n"
     ]
    }
   ],
   "source": [
    "dataset_path = r\"C:\\Users\\ANA\\Documents\\Maestria\\Clase Deeplearning\\Taller entregable\\archive\\House_Rent_Dataset.csv\"\n",
    "df = load_data(dataset_path)\n",
    "\n",
    "X_train, X_test, y_train, y_test = load_data(dataset_path)\n",
    "\n",
    "input_shape = X_train.shape[1]"
   ]
  },
  {
   "cell_type": "markdown",
   "metadata": {},
   "source": [
    "3. Aquí nos encargamos de la división de datos de entrenamiento y prueba"
   ]
  },
  {
   "cell_type": "code",
   "execution_count": 16,
   "metadata": {},
   "outputs": [],
   "source": [
    "from sklearn.model_selection import train_test_split\n",
    "\n",
    "X_train, X_test, y_train, y_test = train_test_split(X, y, test_size=0.2, random_state=42)\n"
   ]
  },
  {
   "cell_type": "markdown",
   "metadata": {},
   "source": [
    "4. Definición de la Red por medio de la librería Tensorflow"
   ]
  },
  {
   "cell_type": "code",
   "execution_count": 17,
   "metadata": {},
   "outputs": [
    {
     "name": "stderr",
     "output_type": "stream",
     "text": [
      "c:\\Users\\ANA\\Documents\\Maestria\\Clase Deeplearning\\Taller entregable\\Taller_prediction\\.venv\\lib\\site-packages\\keras\\src\\layers\\core\\dense.py:87: UserWarning: Do not pass an `input_shape`/`input_dim` argument to a layer. When using Sequential models, prefer using an `Input(shape)` object as the first layer in the model instead.\n",
      "  super().__init__(activity_regularizer=activity_regularizer, **kwargs)\n"
     ]
    }
   ],
   "source": [
    "model = keras.Sequential([\n",
    "        layers.Dense(64, activation='relu', input_shape=(input_shape,)),\n",
    "        layers.Dense(32, activation='relu'),\n",
    "        layers.Dense(16, activation='relu'),\n",
    "        layers.Dense(1)  \n",
    "    ])\n",
    "    \n",
    "\n",
    "model.compile(optimizer=Adam(learning_rate=0.001), loss='mse', metrics=['mae'])\n"
   ]
  },
  {
   "cell_type": "markdown",
   "metadata": {},
   "source": [
    "5. Entrenamiento de la red "
   ]
  },
  {
   "cell_type": "code",
   "execution_count": 18,
   "metadata": {},
   "outputs": [
    {
     "name": "stdout",
     "output_type": "stream",
     "text": [
      "Epoch 1/100\n",
      "\u001b[1m95/95\u001b[0m \u001b[32m━━━━━━━━━━━━━━━━━━━━\u001b[0m\u001b[37m\u001b[0m \u001b[1m10s\u001b[0m 31ms/step - loss: 0.5857 - mae: 0.3134 - val_loss: 0.4774 - val_mae: 0.3111\n",
      "Epoch 2/100\n",
      "\u001b[1m95/95\u001b[0m \u001b[32m━━━━━━━━━━━━━━━━━━━━\u001b[0m\u001b[37m\u001b[0m \u001b[1m1s\u001b[0m 14ms/step - loss: 1.9005 - mae: 0.3213 - val_loss: 0.4578 - val_mae: 0.2757\n",
      "Epoch 3/100\n",
      "\u001b[1m95/95\u001b[0m \u001b[32m━━━━━━━━━━━━━━━━━━━━\u001b[0m\u001b[37m\u001b[0m \u001b[1m1s\u001b[0m 14ms/step - loss: 0.3651 - mae: 0.2539 - val_loss: 0.4672 - val_mae: 0.3080\n",
      "Epoch 4/100\n",
      "\u001b[1m95/95\u001b[0m \u001b[32m━━━━━━━━━━━━━━━━━━━━\u001b[0m\u001b[37m\u001b[0m \u001b[1m4s\u001b[0m 41ms/step - loss: 0.5771 - mae: 0.2777 - val_loss: 0.4556 - val_mae: 0.2671\n",
      "Epoch 5/100\n",
      "\u001b[1m95/95\u001b[0m \u001b[32m━━━━━━━━━━━━━━━━━━━━\u001b[0m\u001b[37m\u001b[0m \u001b[1m2s\u001b[0m 19ms/step - loss: 0.5559 - mae: 0.2816 - val_loss: 0.4570 - val_mae: 0.2766\n",
      "Epoch 6/100\n",
      "\u001b[1m95/95\u001b[0m \u001b[32m━━━━━━━━━━━━━━━━━━━━\u001b[0m\u001b[37m\u001b[0m \u001b[1m2s\u001b[0m 16ms/step - loss: 2.3501 - mae: 0.3118 - val_loss: 0.4471 - val_mae: 0.2806\n",
      "Epoch 7/100\n",
      "\u001b[1m95/95\u001b[0m \u001b[32m━━━━━━━━━━━━━━━━━━━━\u001b[0m\u001b[37m\u001b[0m \u001b[1m3s\u001b[0m 25ms/step - loss: 0.6511 - mae: 0.2665 - val_loss: 0.4502 - val_mae: 0.2755\n",
      "Epoch 8/100\n",
      "\u001b[1m95/95\u001b[0m \u001b[32m━━━━━━━━━━━━━━━━━━━━\u001b[0m\u001b[37m\u001b[0m \u001b[1m1s\u001b[0m 13ms/step - loss: 0.6357 - mae: 0.2545 - val_loss: 0.4538 - val_mae: 0.2638\n",
      "Epoch 9/100\n",
      "\u001b[1m95/95\u001b[0m \u001b[32m━━━━━━━━━━━━━━━━━━━━\u001b[0m\u001b[37m\u001b[0m \u001b[1m1s\u001b[0m 13ms/step - loss: 1.0412 - mae: 0.2780 - val_loss: 0.4474 - val_mae: 0.2570\n",
      "Epoch 10/100\n",
      "\u001b[1m95/95\u001b[0m \u001b[32m━━━━━━━━━━━━━━━━━━━━\u001b[0m\u001b[37m\u001b[0m \u001b[1m1s\u001b[0m 13ms/step - loss: 1.1676 - mae: 0.2676 - val_loss: 0.4398 - val_mae: 0.2663\n",
      "Epoch 11/100\n",
      "\u001b[1m95/95\u001b[0m \u001b[32m━━━━━━━━━━━━━━━━━━━━\u001b[0m\u001b[37m\u001b[0m \u001b[1m2s\u001b[0m 19ms/step - loss: 1.9320 - mae: 0.3168 - val_loss: 0.4354 - val_mae: 0.2562\n",
      "Epoch 12/100\n",
      "\u001b[1m95/95\u001b[0m \u001b[32m━━━━━━━━━━━━━━━━━━━━\u001b[0m\u001b[37m\u001b[0m \u001b[1m1s\u001b[0m 12ms/step - loss: 0.6312 - mae: 0.2406 - val_loss: 0.4447 - val_mae: 0.2759\n",
      "Epoch 13/100\n",
      "\u001b[1m95/95\u001b[0m \u001b[32m━━━━━━━━━━━━━━━━━━━━\u001b[0m\u001b[37m\u001b[0m \u001b[1m1s\u001b[0m 14ms/step - loss: 0.3901 - mae: 0.2619 - val_loss: 0.4574 - val_mae: 0.3023\n",
      "Epoch 14/100\n",
      "\u001b[1m95/95\u001b[0m \u001b[32m━━━━━━━━━━━━━━━━━━━━\u001b[0m\u001b[37m\u001b[0m \u001b[1m1s\u001b[0m 13ms/step - loss: 1.6168 - mae: 0.2982 - val_loss: 0.4389 - val_mae: 0.2528\n",
      "Epoch 15/100\n",
      "\u001b[1m95/95\u001b[0m \u001b[32m━━━━━━━━━━━━━━━━━━━━\u001b[0m\u001b[37m\u001b[0m \u001b[1m2s\u001b[0m 18ms/step - loss: 0.6367 - mae: 0.2532 - val_loss: 0.4419 - val_mae: 0.2507\n",
      "Epoch 16/100\n",
      "\u001b[1m95/95\u001b[0m \u001b[32m━━━━━━━━━━━━━━━━━━━━\u001b[0m\u001b[37m\u001b[0m \u001b[1m2s\u001b[0m 15ms/step - loss: 0.5361 - mae: 0.2459 - val_loss: 0.4389 - val_mae: 0.2684\n",
      "Epoch 17/100\n",
      "\u001b[1m95/95\u001b[0m \u001b[32m━━━━━━━━━━━━━━━━━━━━\u001b[0m\u001b[37m\u001b[0m \u001b[1m1s\u001b[0m 14ms/step - loss: 0.5084 - mae: 0.2539 - val_loss: 0.4430 - val_mae: 0.2586\n",
      "Epoch 18/100\n",
      "\u001b[1m95/95\u001b[0m \u001b[32m━━━━━━━━━━━━━━━━━━━━\u001b[0m\u001b[37m\u001b[0m \u001b[1m2s\u001b[0m 23ms/step - loss: 1.0899 - mae: 0.2663 - val_loss: 0.4304 - val_mae: 0.2646\n",
      "Epoch 19/100\n",
      "\u001b[1m95/95\u001b[0m \u001b[32m━━━━━━━━━━━━━━━━━━━━\u001b[0m\u001b[37m\u001b[0m \u001b[1m2s\u001b[0m 15ms/step - loss: 0.4237 - mae: 0.2457 - val_loss: 0.4322 - val_mae: 0.2676\n",
      "Epoch 20/100\n",
      "\u001b[1m95/95\u001b[0m \u001b[32m━━━━━━━━━━━━━━━━━━━━\u001b[0m\u001b[37m\u001b[0m \u001b[1m2s\u001b[0m 17ms/step - loss: 0.8990 - mae: 0.2630 - val_loss: 0.4236 - val_mae: 0.2629\n",
      "Epoch 21/100\n",
      "\u001b[1m95/95\u001b[0m \u001b[32m━━━━━━━━━━━━━━━━━━━━\u001b[0m\u001b[37m\u001b[0m \u001b[1m2s\u001b[0m 23ms/step - loss: 0.5919 - mae: 0.2548 - val_loss: 0.4331 - val_mae: 0.2586\n",
      "Epoch 22/100\n",
      "\u001b[1m95/95\u001b[0m \u001b[32m━━━━━━━━━━━━━━━━━━━━\u001b[0m\u001b[37m\u001b[0m \u001b[1m2s\u001b[0m 15ms/step - loss: 0.3071 - mae: 0.2397 - val_loss: 0.4267 - val_mae: 0.2706\n",
      "Epoch 23/100\n",
      "\u001b[1m95/95\u001b[0m \u001b[32m━━━━━━━━━━━━━━━━━━━━\u001b[0m\u001b[37m\u001b[0m \u001b[1m2s\u001b[0m 15ms/step - loss: 0.6203 - mae: 0.2658 - val_loss: 0.4383 - val_mae: 0.2611\n",
      "Epoch 24/100\n",
      "\u001b[1m95/95\u001b[0m \u001b[32m━━━━━━━━━━━━━━━━━━━━\u001b[0m\u001b[37m\u001b[0m \u001b[1m2s\u001b[0m 19ms/step - loss: 0.3166 - mae: 0.2409 - val_loss: 0.4238 - val_mae: 0.2669\n",
      "Epoch 25/100\n",
      "\u001b[1m95/95\u001b[0m \u001b[32m━━━━━━━━━━━━━━━━━━━━\u001b[0m\u001b[37m\u001b[0m \u001b[1m2s\u001b[0m 23ms/step - loss: 2.0928 - mae: 0.3018 - val_loss: 0.4186 - val_mae: 0.2580\n",
      "Epoch 26/100\n",
      "\u001b[1m95/95\u001b[0m \u001b[32m━━━━━━━━━━━━━━━━━━━━\u001b[0m\u001b[37m\u001b[0m \u001b[1m2s\u001b[0m 19ms/step - loss: 2.2893 - mae: 0.3034 - val_loss: 0.4246 - val_mae: 0.2499\n",
      "Epoch 27/100\n",
      "\u001b[1m95/95\u001b[0m \u001b[32m━━━━━━━━━━━━━━━━━━━━\u001b[0m\u001b[37m\u001b[0m \u001b[1m3s\u001b[0m 21ms/step - loss: 0.4880 - mae: 0.2521 - val_loss: 0.4226 - val_mae: 0.2627\n",
      "Epoch 28/100\n",
      "\u001b[1m95/95\u001b[0m \u001b[32m━━━━━━━━━━━━━━━━━━━━\u001b[0m\u001b[37m\u001b[0m \u001b[1m2s\u001b[0m 23ms/step - loss: 0.8867 - mae: 0.2649 - val_loss: 0.4172 - val_mae: 0.2564\n",
      "Epoch 29/100\n",
      "\u001b[1m95/95\u001b[0m \u001b[32m━━━━━━━━━━━━━━━━━━━━\u001b[0m\u001b[37m\u001b[0m \u001b[1m2s\u001b[0m 16ms/step - loss: 0.4943 - mae: 0.2376 - val_loss: 0.4218 - val_mae: 0.2544\n",
      "Epoch 30/100\n",
      "\u001b[1m95/95\u001b[0m \u001b[32m━━━━━━━━━━━━━━━━━━━━\u001b[0m\u001b[37m\u001b[0m \u001b[1m2s\u001b[0m 24ms/step - loss: 0.5544 - mae: 0.2575 - val_loss: 0.4447 - val_mae: 0.2724\n",
      "Epoch 31/100\n",
      "\u001b[1m95/95\u001b[0m \u001b[32m━━━━━━━━━━━━━━━━━━━━\u001b[0m\u001b[37m\u001b[0m \u001b[1m2s\u001b[0m 18ms/step - loss: 0.3660 - mae: 0.2550 - val_loss: 0.4248 - val_mae: 0.2696\n",
      "Epoch 32/100\n",
      "\u001b[1m95/95\u001b[0m \u001b[32m━━━━━━━━━━━━━━━━━━━━\u001b[0m\u001b[37m\u001b[0m \u001b[1m4s\u001b[0m 41ms/step - loss: 0.7915 - mae: 0.2492 - val_loss: 0.4248 - val_mae: 0.2502\n",
      "Epoch 33/100\n",
      "\u001b[1m95/95\u001b[0m \u001b[32m━━━━━━━━━━━━━━━━━━━━\u001b[0m\u001b[37m\u001b[0m \u001b[1m5s\u001b[0m 30ms/step - loss: 2.2835 - mae: 0.2953 - val_loss: 0.4201 - val_mae: 0.2693\n",
      "Epoch 34/100\n",
      "\u001b[1m95/95\u001b[0m \u001b[32m━━━━━━━━━━━━━━━━━━━━\u001b[0m\u001b[37m\u001b[0m \u001b[1m5s\u001b[0m 30ms/step - loss: 0.3621 - mae: 0.2444 - val_loss: 0.4248 - val_mae: 0.2653\n",
      "Epoch 35/100\n",
      "\u001b[1m95/95\u001b[0m \u001b[32m━━━━━━━━━━━━━━━━━━━━\u001b[0m\u001b[37m\u001b[0m \u001b[1m5s\u001b[0m 21ms/step - loss: 0.3807 - mae: 0.2396 - val_loss: 0.4448 - val_mae: 0.2774\n",
      "Epoch 36/100\n",
      "\u001b[1m95/95\u001b[0m \u001b[32m━━━━━━━━━━━━━━━━━━━━\u001b[0m\u001b[37m\u001b[0m \u001b[1m3s\u001b[0m 28ms/step - loss: 1.6926 - mae: 0.2856 - val_loss: 0.4207 - val_mae: 0.2566\n",
      "Epoch 37/100\n",
      "\u001b[1m95/95\u001b[0m \u001b[32m━━━━━━━━━━━━━━━━━━━━\u001b[0m\u001b[37m\u001b[0m \u001b[1m3s\u001b[0m 29ms/step - loss: 0.3368 - mae: 0.2520 - val_loss: 0.4269 - val_mae: 0.2853\n",
      "Epoch 38/100\n",
      "\u001b[1m95/95\u001b[0m \u001b[32m━━━━━━━━━━━━━━━━━━━━\u001b[0m\u001b[37m\u001b[0m \u001b[1m5s\u001b[0m 51ms/step - loss: 1.2723 - mae: 0.2819 - val_loss: 0.4186 - val_mae: 0.2474\n",
      "Epoch 39/100\n",
      "\u001b[1m95/95\u001b[0m \u001b[32m━━━━━━━━━━━━━━━━━━━━\u001b[0m\u001b[37m\u001b[0m \u001b[1m4s\u001b[0m 40ms/step - loss: 1.2327 - mae: 0.2664 - val_loss: 0.4199 - val_mae: 0.2590\n",
      "Epoch 40/100\n",
      "\u001b[1m95/95\u001b[0m \u001b[32m━━━━━━━━━━━━━━━━━━━━\u001b[0m\u001b[37m\u001b[0m \u001b[1m5s\u001b[0m 55ms/step - loss: 1.2587 - mae: 0.2833 - val_loss: 0.4136 - val_mae: 0.2617\n",
      "Epoch 41/100\n",
      "\u001b[1m95/95\u001b[0m \u001b[32m━━━━━━━━━━━━━━━━━━━━\u001b[0m\u001b[37m\u001b[0m \u001b[1m3s\u001b[0m 26ms/step - loss: 0.5756 - mae: 0.2508 - val_loss: 0.4268 - val_mae: 0.2583\n",
      "Epoch 42/100\n",
      "\u001b[1m95/95\u001b[0m \u001b[32m━━━━━━━━━━━━━━━━━━━━\u001b[0m\u001b[37m\u001b[0m \u001b[1m5s\u001b[0m 43ms/step - loss: 1.3913 - mae: 0.2827 - val_loss: 0.4157 - val_mae: 0.2478\n",
      "Epoch 43/100\n",
      "\u001b[1m95/95\u001b[0m \u001b[32m━━━━━━━━━━━━━━━━━━━━\u001b[0m\u001b[37m\u001b[0m \u001b[1m6s\u001b[0m 41ms/step - loss: 1.5421 - mae: 0.2815 - val_loss: 0.4163 - val_mae: 0.2576\n",
      "Epoch 44/100\n",
      "\u001b[1m95/95\u001b[0m \u001b[32m━━━━━━━━━━━━━━━━━━━━\u001b[0m\u001b[37m\u001b[0m \u001b[1m6s\u001b[0m 41ms/step - loss: 0.2602 - mae: 0.2332 - val_loss: 0.4140 - val_mae: 0.2685\n",
      "Epoch 45/100\n",
      "\u001b[1m95/95\u001b[0m \u001b[32m━━━━━━━━━━━━━━━━━━━━\u001b[0m\u001b[37m\u001b[0m \u001b[1m4s\u001b[0m 24ms/step - loss: 0.3922 - mae: 0.2538 - val_loss: 0.4137 - val_mae: 0.2558\n",
      "Epoch 46/100\n",
      "\u001b[1m95/95\u001b[0m \u001b[32m━━━━━━━━━━━━━━━━━━━━\u001b[0m\u001b[37m\u001b[0m \u001b[1m2s\u001b[0m 19ms/step - loss: 1.1346 - mae: 0.2656 - val_loss: 0.4157 - val_mae: 0.2485\n",
      "Epoch 47/100\n",
      "\u001b[1m95/95\u001b[0m \u001b[32m━━━━━━━━━━━━━━━━━━━━\u001b[0m\u001b[37m\u001b[0m \u001b[1m3s\u001b[0m 24ms/step - loss: 0.3236 - mae: 0.2302 - val_loss: 0.4193 - val_mae: 0.2714\n",
      "Epoch 48/100\n",
      "\u001b[1m95/95\u001b[0m \u001b[32m━━━━━━━━━━━━━━━━━━━━\u001b[0m\u001b[37m\u001b[0m \u001b[1m3s\u001b[0m 27ms/step - loss: 0.4631 - mae: 0.2545 - val_loss: 0.4191 - val_mae: 0.2642\n",
      "Epoch 49/100\n",
      "\u001b[1m95/95\u001b[0m \u001b[32m━━━━━━━━━━━━━━━━━━━━\u001b[0m\u001b[37m\u001b[0m \u001b[1m6s\u001b[0m 33ms/step - loss: 0.6241 - mae: 0.2508 - val_loss: 0.4082 - val_mae: 0.2530\n",
      "Epoch 50/100\n",
      "\u001b[1m95/95\u001b[0m \u001b[32m━━━━━━━━━━━━━━━━━━━━\u001b[0m\u001b[37m\u001b[0m \u001b[1m5s\u001b[0m 24ms/step - loss: 0.6335 - mae: 0.2403 - val_loss: 0.4071 - val_mae: 0.2474\n",
      "Epoch 51/100\n",
      "\u001b[1m95/95\u001b[0m \u001b[32m━━━━━━━━━━━━━━━━━━━━\u001b[0m\u001b[37m\u001b[0m \u001b[1m2s\u001b[0m 20ms/step - loss: 0.5368 - mae: 0.2557 - val_loss: 0.4198 - val_mae: 0.2486\n",
      "Epoch 52/100\n",
      "\u001b[1m95/95\u001b[0m \u001b[32m━━━━━━━━━━━━━━━━━━━━\u001b[0m\u001b[37m\u001b[0m \u001b[1m3s\u001b[0m 22ms/step - loss: 0.8184 - mae: 0.2397 - val_loss: 0.4112 - val_mae: 0.2632\n",
      "Epoch 53/100\n",
      "\u001b[1m95/95\u001b[0m \u001b[32m━━━━━━━━━━━━━━━━━━━━\u001b[0m\u001b[37m\u001b[0m \u001b[1m3s\u001b[0m 23ms/step - loss: 1.0944 - mae: 0.2584 - val_loss: 0.4102 - val_mae: 0.2659\n",
      "Epoch 54/100\n",
      "\u001b[1m95/95\u001b[0m \u001b[32m━━━━━━━━━━━━━━━━━━━━\u001b[0m\u001b[37m\u001b[0m \u001b[1m3s\u001b[0m 24ms/step - loss: 0.7798 - mae: 0.2614 - val_loss: 0.4080 - val_mae: 0.2499\n",
      "Epoch 55/100\n",
      "\u001b[1m95/95\u001b[0m \u001b[32m━━━━━━━━━━━━━━━━━━━━\u001b[0m\u001b[37m\u001b[0m \u001b[1m2s\u001b[0m 22ms/step - loss: 2.3318 - mae: 0.3145 - val_loss: 0.4173 - val_mae: 0.2496\n",
      "Epoch 56/100\n",
      "\u001b[1m95/95\u001b[0m \u001b[32m━━━━━━━━━━━━━━━━━━━━\u001b[0m\u001b[37m\u001b[0m \u001b[1m3s\u001b[0m 28ms/step - loss: 0.2310 - mae: 0.2256 - val_loss: 0.4172 - val_mae: 0.2750\n",
      "Epoch 57/100\n",
      "\u001b[1m95/95\u001b[0m \u001b[32m━━━━━━━━━━━━━━━━━━━━\u001b[0m\u001b[37m\u001b[0m \u001b[1m2s\u001b[0m 20ms/step - loss: 2.5798 - mae: 0.3260 - val_loss: 0.4177 - val_mae: 0.2542\n",
      "Epoch 58/100\n",
      "\u001b[1m95/95\u001b[0m \u001b[32m━━━━━━━━━━━━━━━━━━━━\u001b[0m\u001b[37m\u001b[0m \u001b[1m3s\u001b[0m 26ms/step - loss: 0.8544 - mae: 0.2732 - val_loss: 0.4250 - val_mae: 0.2587\n",
      "Epoch 59/100\n",
      "\u001b[1m95/95\u001b[0m \u001b[32m━━━━━━━━━━━━━━━━━━━━\u001b[0m\u001b[37m\u001b[0m \u001b[1m3s\u001b[0m 30ms/step - loss: 2.2884 - mae: 0.2947 - val_loss: 0.4089 - val_mae: 0.2615\n",
      "Epoch 60/100\n",
      "\u001b[1m95/95\u001b[0m \u001b[32m━━━━━━━━━━━━━━━━━━━━\u001b[0m\u001b[37m\u001b[0m \u001b[1m4s\u001b[0m 39ms/step - loss: 0.3267 - mae: 0.2516 - val_loss: 0.4169 - val_mae: 0.2754\n",
      "Epoch 61/100\n",
      "\u001b[1m95/95\u001b[0m \u001b[32m━━━━━━━━━━━━━━━━━━━━\u001b[0m\u001b[37m\u001b[0m \u001b[1m4s\u001b[0m 37ms/step - loss: 2.2219 - mae: 0.2903 - val_loss: 0.4097 - val_mae: 0.2715\n",
      "Epoch 62/100\n",
      "\u001b[1m95/95\u001b[0m \u001b[32m━━━━━━━━━━━━━━━━━━━━\u001b[0m\u001b[37m\u001b[0m \u001b[1m3s\u001b[0m 28ms/step - loss: 0.3692 - mae: 0.2525 - val_loss: 0.4152 - val_mae: 0.2897\n",
      "Epoch 63/100\n",
      "\u001b[1m95/95\u001b[0m \u001b[32m━━━━━━━━━━━━━━━━━━━━\u001b[0m\u001b[37m\u001b[0m \u001b[1m6s\u001b[0m 32ms/step - loss: 0.3276 - mae: 0.2422 - val_loss: 0.4275 - val_mae: 0.2838\n",
      "Epoch 64/100\n",
      "\u001b[1m95/95\u001b[0m \u001b[32m━━━━━━━━━━━━━━━━━━━━\u001b[0m\u001b[37m\u001b[0m \u001b[1m4s\u001b[0m 41ms/step - loss: 1.2369 - mae: 0.2833 - val_loss: 0.4035 - val_mae: 0.2586\n",
      "Epoch 65/100\n",
      "\u001b[1m95/95\u001b[0m \u001b[32m━━━━━━━━━━━━━━━━━━━━\u001b[0m\u001b[37m\u001b[0m \u001b[1m5s\u001b[0m 33ms/step - loss: 0.8208 - mae: 0.2542 - val_loss: 0.4114 - val_mae: 0.2421\n",
      "Epoch 66/100\n",
      "\u001b[1m95/95\u001b[0m \u001b[32m━━━━━━━━━━━━━━━━━━━━\u001b[0m\u001b[37m\u001b[0m \u001b[1m4s\u001b[0m 42ms/step - loss: 0.6746 - mae: 0.2583 - val_loss: 0.4325 - val_mae: 0.2748\n",
      "Epoch 67/100\n",
      "\u001b[1m95/95\u001b[0m \u001b[32m━━━━━━━━━━━━━━━━━━━━\u001b[0m\u001b[37m\u001b[0m \u001b[1m3s\u001b[0m 30ms/step - loss: 0.6311 - mae: 0.2558 - val_loss: 0.4173 - val_mae: 0.2535\n",
      "Epoch 68/100\n",
      "\u001b[1m95/95\u001b[0m \u001b[32m━━━━━━━━━━━━━━━━━━━━\u001b[0m\u001b[37m\u001b[0m \u001b[1m4s\u001b[0m 40ms/step - loss: 0.7656 - mae: 0.2633 - val_loss: 0.4358 - val_mae: 0.2553\n",
      "Epoch 69/100\n",
      "\u001b[1m95/95\u001b[0m \u001b[32m━━━━━━━━━━━━━━━━━━━━\u001b[0m\u001b[37m\u001b[0m \u001b[1m5s\u001b[0m 46ms/step - loss: 0.7951 - mae: 0.2634 - val_loss: 0.4141 - val_mae: 0.2698\n",
      "Epoch 70/100\n",
      "\u001b[1m95/95\u001b[0m \u001b[32m━━━━━━━━━━━━━━━━━━━━\u001b[0m\u001b[37m\u001b[0m \u001b[1m4s\u001b[0m 39ms/step - loss: 0.5204 - mae: 0.2427 - val_loss: 0.4189 - val_mae: 0.2513\n",
      "Epoch 71/100\n",
      "\u001b[1m95/95\u001b[0m \u001b[32m━━━━━━━━━━━━━━━━━━━━\u001b[0m\u001b[37m\u001b[0m \u001b[1m6s\u001b[0m 45ms/step - loss: 0.7569 - mae: 0.2646 - val_loss: 0.4064 - val_mae: 0.2422\n",
      "Epoch 72/100\n",
      "\u001b[1m95/95\u001b[0m \u001b[32m━━━━━━━━━━━━━━━━━━━━\u001b[0m\u001b[37m\u001b[0m \u001b[1m6s\u001b[0m 57ms/step - loss: 1.1375 - mae: 0.2661 - val_loss: 0.4085 - val_mae: 0.2489\n",
      "Epoch 73/100\n",
      "\u001b[1m95/95\u001b[0m \u001b[32m━━━━━━━━━━━━━━━━━━━━\u001b[0m\u001b[37m\u001b[0m \u001b[1m5s\u001b[0m 50ms/step - loss: 0.5941 - mae: 0.2408 - val_loss: 0.4010 - val_mae: 0.2444\n",
      "Epoch 74/100\n",
      "\u001b[1m95/95\u001b[0m \u001b[32m━━━━━━━━━━━━━━━━━━━━\u001b[0m\u001b[37m\u001b[0m \u001b[1m4s\u001b[0m 28ms/step - loss: 0.4793 - mae: 0.2432 - val_loss: 0.4320 - val_mae: 0.2730\n",
      "Epoch 75/100\n",
      "\u001b[1m95/95\u001b[0m \u001b[32m━━━━━━━━━━━━━━━━━━━━\u001b[0m\u001b[37m\u001b[0m \u001b[1m3s\u001b[0m 21ms/step - loss: 1.6484 - mae: 0.2895 - val_loss: 0.4048 - val_mae: 0.2504\n",
      "Epoch 76/100\n",
      "\u001b[1m95/95\u001b[0m \u001b[32m━━━━━━━━━━━━━━━━━━━━\u001b[0m\u001b[37m\u001b[0m \u001b[1m4s\u001b[0m 29ms/step - loss: 0.8850 - mae: 0.2450 - val_loss: 0.4155 - val_mae: 0.2628\n",
      "Epoch 77/100\n",
      "\u001b[1m95/95\u001b[0m \u001b[32m━━━━━━━━━━━━━━━━━━━━\u001b[0m\u001b[37m\u001b[0m \u001b[1m4s\u001b[0m 14ms/step - loss: 0.4573 - mae: 0.2473 - val_loss: 0.4031 - val_mae: 0.2600\n",
      "Epoch 78/100\n",
      "\u001b[1m95/95\u001b[0m \u001b[32m━━━━━━━━━━━━━━━━━━━━\u001b[0m\u001b[37m\u001b[0m \u001b[1m2s\u001b[0m 19ms/step - loss: 0.2751 - mae: 0.2376 - val_loss: 0.4008 - val_mae: 0.2632\n",
      "Epoch 79/100\n",
      "\u001b[1m95/95\u001b[0m \u001b[32m━━━━━━━━━━━━━━━━━━━━\u001b[0m\u001b[37m\u001b[0m \u001b[1m2s\u001b[0m 19ms/step - loss: 0.5227 - mae: 0.2541 - val_loss: 0.4227 - val_mae: 0.2571\n",
      "Epoch 80/100\n",
      "\u001b[1m95/95\u001b[0m \u001b[32m━━━━━━━━━━━━━━━━━━━━\u001b[0m\u001b[37m\u001b[0m \u001b[1m3s\u001b[0m 25ms/step - loss: 0.8177 - mae: 0.2633 - val_loss: 0.3996 - val_mae: 0.2512\n",
      "Epoch 81/100\n",
      "\u001b[1m95/95\u001b[0m \u001b[32m━━━━━━━━━━━━━━━━━━━━\u001b[0m\u001b[37m\u001b[0m \u001b[1m2s\u001b[0m 22ms/step - loss: 1.1438 - mae: 0.2729 - val_loss: 0.4024 - val_mae: 0.2489\n",
      "Epoch 82/100\n",
      "\u001b[1m95/95\u001b[0m \u001b[32m━━━━━━━━━━━━━━━━━━━━\u001b[0m\u001b[37m\u001b[0m \u001b[1m2s\u001b[0m 16ms/step - loss: 0.3734 - mae: 0.2508 - val_loss: 0.4065 - val_mae: 0.2489\n",
      "Epoch 83/100\n",
      "\u001b[1m95/95\u001b[0m \u001b[32m━━━━━━━━━━━━━━━━━━━━\u001b[0m\u001b[37m\u001b[0m \u001b[1m3s\u001b[0m 19ms/step - loss: 0.6788 - mae: 0.2509 - val_loss: 0.4321 - val_mae: 0.2616\n",
      "Epoch 84/100\n",
      "\u001b[1m95/95\u001b[0m \u001b[32m━━━━━━━━━━━━━━━━━━━━\u001b[0m\u001b[37m\u001b[0m \u001b[1m4s\u001b[0m 32ms/step - loss: 0.5059 - mae: 0.2568 - val_loss: 0.4056 - val_mae: 0.2533\n",
      "Epoch 85/100\n",
      "\u001b[1m95/95\u001b[0m \u001b[32m━━━━━━━━━━━━━━━━━━━━\u001b[0m\u001b[37m\u001b[0m \u001b[1m2s\u001b[0m 19ms/step - loss: 0.4066 - mae: 0.2541 - val_loss: 0.4124 - val_mae: 0.2706\n",
      "Epoch 86/100\n",
      "\u001b[1m95/95\u001b[0m \u001b[32m━━━━━━━━━━━━━━━━━━━━\u001b[0m\u001b[37m\u001b[0m \u001b[1m2s\u001b[0m 22ms/step - loss: 0.4927 - mae: 0.2445 - val_loss: 0.4257 - val_mae: 0.2444\n",
      "Epoch 87/100\n",
      "\u001b[1m95/95\u001b[0m \u001b[32m━━━━━━━━━━━━━━━━━━━━\u001b[0m\u001b[37m\u001b[0m \u001b[1m3s\u001b[0m 26ms/step - loss: 0.2665 - mae: 0.2299 - val_loss: 0.4072 - val_mae: 0.2802\n",
      "Epoch 88/100\n",
      "\u001b[1m95/95\u001b[0m \u001b[32m━━━━━━━━━━━━━━━━━━━━\u001b[0m\u001b[37m\u001b[0m \u001b[1m2s\u001b[0m 20ms/step - loss: 0.5331 - mae: 0.2554 - val_loss: 0.4056 - val_mae: 0.2539\n",
      "Epoch 89/100\n",
      "\u001b[1m95/95\u001b[0m \u001b[32m━━━━━━━━━━━━━━━━━━━━\u001b[0m\u001b[37m\u001b[0m \u001b[1m2s\u001b[0m 19ms/step - loss: 1.6078 - mae: 0.2798 - val_loss: 0.4078 - val_mae: 0.2612\n",
      "Epoch 90/100\n",
      "\u001b[1m95/95\u001b[0m \u001b[32m━━━━━━━━━━━━━━━━━━━━\u001b[0m\u001b[37m\u001b[0m \u001b[1m3s\u001b[0m 26ms/step - loss: 0.8616 - mae: 0.2583 - val_loss: 0.4101 - val_mae: 0.2405\n",
      "Epoch 91/100\n",
      "\u001b[1m95/95\u001b[0m \u001b[32m━━━━━━━━━━━━━━━━━━━━\u001b[0m\u001b[37m\u001b[0m \u001b[1m2s\u001b[0m 24ms/step - loss: 0.2948 - mae: 0.2305 - val_loss: 0.4430 - val_mae: 0.3196\n",
      "Epoch 92/100\n",
      "\u001b[1m95/95\u001b[0m \u001b[32m━━━━━━━━━━━━━━━━━━━━\u001b[0m\u001b[37m\u001b[0m \u001b[1m2s\u001b[0m 19ms/step - loss: 0.3538 - mae: 0.2599 - val_loss: 0.4070 - val_mae: 0.2735\n",
      "Epoch 93/100\n",
      "\u001b[1m95/95\u001b[0m \u001b[32m━━━━━━━━━━━━━━━━━━━━\u001b[0m\u001b[37m\u001b[0m \u001b[1m3s\u001b[0m 25ms/step - loss: 1.3398 - mae: 0.2709 - val_loss: 0.3992 - val_mae: 0.2438\n",
      "Epoch 94/100\n",
      "\u001b[1m95/95\u001b[0m \u001b[32m━━━━━━━━━━━━━━━━━━━━\u001b[0m\u001b[37m\u001b[0m \u001b[1m2s\u001b[0m 21ms/step - loss: 0.4569 - mae: 0.2377 - val_loss: 0.4022 - val_mae: 0.2499\n",
      "Epoch 95/100\n",
      "\u001b[1m95/95\u001b[0m \u001b[32m━━━━━━━━━━━━━━━━━━━━\u001b[0m\u001b[37m\u001b[0m \u001b[1m2s\u001b[0m 23ms/step - loss: 0.5931 - mae: 0.2548 - val_loss: 0.4397 - val_mae: 0.2685\n",
      "Epoch 96/100\n",
      "\u001b[1m95/95\u001b[0m \u001b[32m━━━━━━━━━━━━━━━━━━━━\u001b[0m\u001b[37m\u001b[0m \u001b[1m2s\u001b[0m 21ms/step - loss: 0.3041 - mae: 0.2463 - val_loss: 0.4027 - val_mae: 0.2735\n",
      "Epoch 97/100\n",
      "\u001b[1m95/95\u001b[0m \u001b[32m━━━━━━━━━━━━━━━━━━━━\u001b[0m\u001b[37m\u001b[0m \u001b[1m4s\u001b[0m 44ms/step - loss: 0.2969 - mae: 0.2305 - val_loss: 0.4025 - val_mae: 0.2607\n",
      "Epoch 98/100\n",
      "\u001b[1m95/95\u001b[0m \u001b[32m━━━━━━━━━━━━━━━━━━━━\u001b[0m\u001b[37m\u001b[0m \u001b[1m5s\u001b[0m 44ms/step - loss: 1.1049 - mae: 0.2756 - val_loss: 0.4044 - val_mae: 0.2700\n",
      "Epoch 99/100\n",
      "\u001b[1m95/95\u001b[0m \u001b[32m━━━━━━━━━━━━━━━━━━━━\u001b[0m\u001b[37m\u001b[0m \u001b[1m7s\u001b[0m 55ms/step - loss: 0.9678 - mae: 0.2575 - val_loss: 0.3972 - val_mae: 0.2484\n",
      "Epoch 100/100\n",
      "\u001b[1m95/95\u001b[0m \u001b[32m━━━━━━━━━━━━━━━━━━━━\u001b[0m\u001b[37m\u001b[0m \u001b[1m6s\u001b[0m 54ms/step - loss: 1.0896 - mae: 0.2519 - val_loss: 0.4115 - val_mae: 0.2816\n"
     ]
    }
   ],
   "source": [
    "history = model.fit(X_train, y_train, validation_data=(X_test, y_test), epochs=100, batch_size=32)"
   ]
  },
  {
   "cell_type": "markdown",
   "metadata": {},
   "source": [
    "6. Evaluación del modelo. "
   ]
  },
  {
   "cell_type": "code",
   "execution_count": 19,
   "metadata": {},
   "outputs": [
    {
     "data": {
      "image/png": "[encoded data removed]",
      "text/plain": [
       "<Figure size 640x480 with 1 Axes>"
      ]
     },
     "metadata": {},
     "output_type": "display_data"
    }
   ],
   "source": [
    "plt.plot(history.history['loss'], label='Pérdida entrenamiento')\n",
    "plt.plot(history.history['val_loss'], label='Pérdida validación')\n",
    "plt.xlabel('Épocas')\n",
    "plt.ylabel('Pérdida')\n",
    "plt.legend()\n",
    "plt.title('Curva de pérdida')\n",
    "plt.show()\n"
   ]
  }
 ],
 "metadata": {
  "kernelspec": {
   "display_name": ".venv",
   "language": "python",
   "name": "python3"
  },
  "language_info": {
   "codemirror_mode": {
    "name": "ipython",
    "version": 3
   },
   "file_extension": ".py",
   "mimetype": "text/x-python",
   "name": "python",
   "nbconvert_exporter": "python",
   "pygments_lexer": "ipython3",
   "version": "3.9.13"
  }
 },
 "nbformat": 4,
 "nbformat_minor": 2
}
